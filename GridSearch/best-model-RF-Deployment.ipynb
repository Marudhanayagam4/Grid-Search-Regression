{
 "cells": [
  {
   "cell_type": "code",
   "execution_count": 72,
   "id": "56acb8b3-3394-4468-b3bf-884130a6774b",
   "metadata": {},
   "outputs": [],
   "source": [
    "import pickle\n",
    "# Load the saved dictionary containing the model and scalers\n",
    "with open(\"final_model.sav\", \"rb\") as f:\n",
    "    saved_objects=pickle.load(f)\n",
    "\n",
    "# Extract the model and scalers\n",
    "model = saved_objects['model']\n",
    "scx=saved_objects['Scaler_X']\n",
    "scy=saved_objects['Scaler_Y']\n"
   ]
  },
  {
   "cell_type": "code",
   "execution_count": null,
   "id": "5236166b-fdf8-4e05-b0d7-ac5a10222e30",
   "metadata": {},
   "outputs": [],
   "source": [
    "# user input \n",
    "age=int(input(\"Age:\"))\n",
    "bmi=float(input(\"BMI:\"))\n",
    "children=int(input(\"Children:\"))\n",
    "sex_male=int(input(\"Sex_Male: 0/1\"))\n",
    "smoker_yes=int(input(\"Smoker_yes 0 / 1: \"))\n",
    "\n",
    "# Transform the user input data using the input scaler\n",
    "preInput=scx.transform([[age,bmi,children,sex_male,smoker_yes]])\n",
    "preInput"
   ]
  },
  {
   "cell_type": "code",
   "execution_count": 69,
   "id": "e5eaa236-38cd-46e5-a8e3-3b9d6adaed32",
   "metadata": {},
   "outputs": [
    {
     "data": {
      "text/plain": [
       "array([0.4593242])"
      ]
     },
     "execution_count": 69,
     "metadata": {},
     "output_type": "execute_result"
    }
   ],
   "source": [
    "# Predict the standardized output using the trained model\n",
    "result=model.predict(preInput)\n",
    "result"
   ]
  },
  {
   "cell_type": "code",
   "execution_count": 74,
   "id": "b1b5b735-c0c6-42e9-a316-50f864cbc952",
   "metadata": {},
   "outputs": [
    {
     "name": "stdout",
     "output_type": "stream",
     "text": [
      "Predicted Charges: 18686.82\n"
     ]
    }
   ],
   "source": [
    "# Inverse transform the output to get the raw output\n",
    "preOutput=scy.inverse_transform([result])\n",
    "preOutput\n",
    "print(f\"Predicted Charges: {preOutput[0][0]:.2f}\")"
   ]
  },
  {
   "cell_type": "code",
   "execution_count": 45,
   "id": "0812a507-f210-40fb-ae8d-788d6ae47a18",
   "metadata": {},
   "outputs": [],
   "source": []
  }
 ],
 "metadata": {
  "kernelspec": {
   "display_name": "Python 3 (ipykernel)",
   "language": "python",
   "name": "python3"
  },
  "language_info": {
   "codemirror_mode": {
    "name": "ipython",
    "version": 3
   },
   "file_extension": ".py",
   "mimetype": "text/x-python",
   "name": "python",
   "nbconvert_exporter": "python",
   "pygments_lexer": "ipython3",
   "version": "3.12.4"
  }
 },
 "nbformat": 4,
 "nbformat_minor": 5
}
