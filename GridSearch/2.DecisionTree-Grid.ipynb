{
 "cells": [
  {
   "cell_type": "code",
   "execution_count": null,
   "id": "7ddee6e0-9601-45ab-b2ab-252699524f25",
   "metadata": {},
   "outputs": [],
   "source": [
    "# Data Collection\n",
    "import pandas as pd\n",
    "dataset=pd.read_csv(\"insurance_pre.csv\")\n",
    "dataset"
   ]
  },
  {
   "cell_type": "code",
   "execution_count": null,
   "id": "574caab9-703d-4073-8449-6fa8c336d9f2",
   "metadata": {},
   "outputs": [],
   "source": [
    "# Data preprocessing - nominal to numerical data - one hot encoding method\n",
    "dataset=pd.get_dummies(dataset,dtype=int,drop_first=True)\n",
    "dataset"
   ]
  },
  {
   "cell_type": "code",
   "execution_count": null,
   "id": "358f7207-561a-4f6b-b0e4-12a54db9ba70",
   "metadata": {},
   "outputs": [],
   "source": [
    "dataset.columns"
   ]
  },
  {
   "cell_type": "code",
   "execution_count": null,
   "id": "851a41c6-4114-41ce-b24a-86bbbbb5ceb9",
   "metadata": {},
   "outputs": [],
   "source": [
    "indep=dataset[['age', 'bmi', 'children', 'sex_male', 'smoker_yes']]\n",
    "dep=dataset[['charges']]\n",
    "dep"
   ]
  },
  {
   "cell_type": "code",
   "execution_count": null,
   "id": "7ed6aeb1-9ef0-4868-b347-e669cb7de574",
   "metadata": {},
   "outputs": [],
   "source": [
    "# split train and test set\n",
    "from sklearn.model_selection import train_test_split\n",
    "X_train,X_test,Y_train,Y_test=train_test_split(indep,dep,test_size=0.3, random_state=0)\n",
    "X_train"
   ]
  },
  {
   "cell_type": "code",
   "execution_count": null,
   "id": "c299af98-d1d1-41a1-a8c2-6b3d78e719d7",
   "metadata": {},
   "outputs": [],
   "source": [
    "# Standardisation-Pre processing method - rescales data to a consistent format-easier to understand and use\n",
    "from sklearn.preprocessing import StandardScaler\n",
    "sc=StandardScaler()\n",
    "X_train=sc.fit_transform(X_train)\n",
    "X_test=sc.transform(X_test)\n",
    "X_test"
   ]
  },
  {
   "cell_type": "code",
   "execution_count": null,
   "id": "97d0d2c1-a5b0-4d11-bca0-023b90472d60",
   "metadata": {},
   "outputs": [],
   "source": [
    "# model creation \n",
    "from sklearn.model_selection import GridSearchCV\n",
    "from sklearn.tree import DecisionTreeRegressor\n",
    "param_grid={\n",
    "    'criterion':[\"squared_error\", \"friedman_mse\", \"absolute_error\", \"poisson\"],\n",
    "    'max_features':['sqrt','log2',None],\n",
    "    'splitter':['best','random']\n",
    "}\n",
    "grid=GridSearchCV(DecisionTreeRegressor(),param_grid, refit=True, verbose=3,n_jobs=-1)\n",
    "grid.fit(X_train,Y_train)"
   ]
  },
  {
   "cell_type": "code",
   "execution_count": null,
   "id": "91860f6b-7d5c-47ba-8654-dd4412188fa9",
   "metadata": {},
   "outputs": [],
   "source": [
    "#print the best parameter after tunning\n",
    "grid.best_params_"
   ]
  },
  {
   "cell_type": "code",
   "execution_count": null,
   "id": "98ae7b71-a678-4a6a-9c28-ca3761988414",
   "metadata": {},
   "outputs": [],
   "source": [
    "re=grid.cv_results_\n",
    "table=pd.DataFrame.from_dict(re)\n"
   ]
  },
  {
   "cell_type": "code",
   "execution_count": null,
   "id": "078a5221-b1ab-45ee-8ee9-8c8a49bcbc58",
   "metadata": {},
   "outputs": [],
   "source": [
    "table"
   ]
  },
  {
   "cell_type": "code",
   "execution_count": null,
   "id": "7d2d3aa8-d0e4-4656-b5d6-048357552ece",
   "metadata": {},
   "outputs": [],
   "source": [
    "age=int(input(\"Age:\"))\n",
    "bmi=float(input(\"BMI:\"))\n",
    "children=int(input(\"Children:\"))\n",
    "sex_male=int(input(\"Sex_Male: 0/1\"))\n",
    "smoker_yes=int(input(\"Smoker_yes 0 / 1: \"))\n",
    "\n",
    "Future_predictions=grid.predict([[age,bmi,children,sex_male,smoker_yes]])\n",
    "print(\"Future predictions={}\".format(Future_predictions))"
   ]
  },
  {
   "cell_type": "code",
   "execution_count": null,
   "id": "d4baeb0e-9116-46ed-905e-90b21430b952",
   "metadata": {},
   "outputs": [],
   "source": []
  }
 ],
 "metadata": {
  "kernelspec": {
   "display_name": "Python 3 (ipykernel)",
   "language": "python",
   "name": "python3"
  },
  "language_info": {
   "codemirror_mode": {
    "name": "ipython",
    "version": 3
   },
   "file_extension": ".py",
   "mimetype": "text/x-python",
   "name": "python",
   "nbconvert_exporter": "python",
   "pygments_lexer": "ipython3",
   "version": "3.12.4"
  }
 },
 "nbformat": 4,
 "nbformat_minor": 5
}
